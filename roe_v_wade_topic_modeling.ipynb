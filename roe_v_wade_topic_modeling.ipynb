{
 "cells": [
  {
   "cell_type": "code",
   "execution_count": 1,
   "id": "compressed-champion",
   "metadata": {},
   "outputs": [],
   "source": [
    "import os\n",
    "import gzip\n",
    "import pandas as pd\n",
    "import numpy as np"
   ]
  },
  {
   "cell_type": "code",
   "execution_count": 2,
   "id": "ranging-partner",
   "metadata": {},
   "outputs": [
    {
     "data": {
      "text/html": [
       "<div>\n",
       "<style scoped>\n",
       "    .dataframe tbody tr th:only-of-type {\n",
       "        vertical-align: middle;\n",
       "    }\n",
       "\n",
       "    .dataframe tbody tr th {\n",
       "        vertical-align: top;\n",
       "    }\n",
       "\n",
       "    .dataframe thead th {\n",
       "        text-align: right;\n",
       "    }\n",
       "</style>\n",
       "<table border=\"1\" class=\"dataframe\">\n",
       "  <thead>\n",
       "    <tr style=\"text-align: right;\">\n",
       "      <th></th>\n",
       "      <th>case_id</th>\n",
       "      <th>text</th>\n",
       "      <th>type</th>\n",
       "      <th>year</th>\n",
       "    </tr>\n",
       "    <tr>\n",
       "      <th>authors</th>\n",
       "      <th></th>\n",
       "      <th></th>\n",
       "      <th></th>\n",
       "      <th></th>\n",
       "    </tr>\n",
       "  </thead>\n",
       "  <tbody>\n",
       "    <tr>\n",
       "      <th>blackmun</th>\n",
       "      <td>1972-048</td>\n",
       "      <td>\\nOPINION BY: BLACKMUN\\nOPINION\\nMR. JUSTICE B...</td>\n",
       "      <td>opinion</td>\n",
       "      <td>1973</td>\n",
       "    </tr>\n",
       "    <tr>\n",
       "      <th>stewart</th>\n",
       "      <td>1972-048</td>\n",
       "      <td>\\nCONCUR BY: STEWART\\nMR. JUSTICE STEWART, con...</td>\n",
       "      <td>concur</td>\n",
       "      <td>1973</td>\n",
       "    </tr>\n",
       "    <tr>\n",
       "      <th>rehnquist</th>\n",
       "      <td>1972-048</td>\n",
       "      <td>\\nDISSENT BY: REHNQUIST\\nMR. JUSTICE REHNQUIST...</td>\n",
       "      <td>dissent</td>\n",
       "      <td>1973</td>\n",
       "    </tr>\n",
       "  </tbody>\n",
       "</table>\n",
       "</div>"
      ],
      "text/plain": [
       "            case_id                                               text  \\\n",
       "authors                                                                  \n",
       "blackmun   1972-048  \\nOPINION BY: BLACKMUN\\nOPINION\\nMR. JUSTICE B...   \n",
       "stewart    1972-048  \\nCONCUR BY: STEWART\\nMR. JUSTICE STEWART, con...   \n",
       "rehnquist  1972-048  \\nDISSENT BY: REHNQUIST\\nMR. JUSTICE REHNQUIST...   \n",
       "\n",
       "              type  year  \n",
       "authors                   \n",
       "blackmun   opinion  1973  \n",
       "stewart     concur  1973  \n",
       "rehnquist  dissent  1973  "
      ]
     },
     "execution_count": 2,
     "metadata": {},
     "output_type": "execute_result"
    }
   ],
   "source": [
    "with gzip.open('datasets/09-topic-models/data/supreme-court-opinions-by-author.jsonl.gz', 'rt') as fh:\n",
    "    df = pd.read_json(fh, lines=True).set_index(['us_reports_citation', 'authors'])\n",
    "df.loc['410 US 113']"
   ]
  },
  {
   "cell_type": "code",
   "execution_count": 3,
   "id": "abandoned-recommendation",
   "metadata": {},
   "outputs": [
    {
     "name": "stdout",
     "output_type": "stream",
     "text": [
      "\n",
      "OPINION BY: BLACKMUN\n",
      "OPINION\n",
      "MR. JUSTICE BLACKMUN delivered the opinion of the Court.\n",
      "This Texas federal appeal and its Georgia companion, Doe v. Bolton, post, p. 179, present constitutional challenges to state criminal abortion legislation. The Tex\n"
     ]
    }
   ],
   "source": [
    "print(df.loc['410 US 113'].loc['blackmun', 'text'][:250])"
   ]
  },
  {
   "cell_type": "code",
   "execution_count": 4,
   "id": "finnish-twelve",
   "metadata": {},
   "outputs": [
    {
     "data": {
      "text/plain": [
       "<AxesSubplot:>"
      ]
     },
     "execution_count": 4,
     "metadata": {},
     "output_type": "execute_result"
    },
    {
     "data": {
      "image/png": "[encoded data removed]",
      "text/plain": [
       "<Figure size 432x288 with 1 Axes>"
      ]
     },
     "metadata": {
      "needs_background": "light"
     },
     "output_type": "display_data"
    }
   ],
   "source": [
    "df['year'].hist(bins=50)"
   ]
  },
  {
   "cell_type": "code",
   "execution_count": 5,
   "id": "shared-tracy",
   "metadata": {},
   "outputs": [
    {
     "data": {
      "text/plain": [
       "count    34677.000000\n",
       "mean      1928.824552\n",
       "std         48.821262\n",
       "min       1794.000000\n",
       "25%       1890.000000\n",
       "50%       1927.000000\n",
       "75%       1974.000000\n",
       "max       2008.000000\n",
       "Name: year, dtype: float64"
      ]
     },
     "execution_count": 5,
     "metadata": {},
     "output_type": "execute_result"
    }
   ],
   "source": [
    "df['year'].describe()"
   ]
  },
  {
   "cell_type": "code",
   "execution_count": 6,
   "id": "opposed-actress",
   "metadata": {},
   "outputs": [
    {
     "name": "stdout",
     "output_type": "stream",
     "text": [
      "Shape of document-term matrix: (34677, 13231). Number of tokens: 36139890\n"
     ]
    }
   ],
   "source": [
    "import sklearn.feature_extraction.text as text\n",
    "\n",
    "vec= text.CountVectorizer(lowercase=True, min_df=100, stop_words='english')\n",
    "dtm = vec.fit_transform(df['text'])\n",
    "\n",
    "print(f'Shape of document-term matrix: {dtm.shape}. '\n",
    "     f'Number of tokens: {dtm.sum()}')"
   ]
  },
  {
   "cell_type": "code",
   "execution_count": 7,
   "id": "suffering-delivery",
   "metadata": {},
   "outputs": [
    {
     "name": "stderr",
     "output_type": "stream",
     "text": [
      "c:\\Users\\KSpicer\\Anaconda3\\envs\\victorian_authorship_env\\lib\\site-packages\\sklearn\\utils\\deprecation.py:87: FutureWarning: Function get_feature_names is deprecated; get_feature_names is deprecated in 1.0 and will be removed in 1.2. Please use get_feature_names_out instead.\n",
      "  warnings.warn(msg, category=FutureWarning)\n"
     ]
    }
   ],
   "source": [
    "import sklearn.decomposition as decomposition\n",
    "model = decomposition.LatentDirichletAllocation(n_components=100, learning_method='online', random_state=1)\n",
    "\n",
    "document_topic_distributions = model.fit_transform(dtm)\n",
    "vocabulary = vec.get_feature_names()\n",
    "assert model.components_.shape == (100, len(vocabulary))\n",
    "assert document_topic_distributions.shape == (dtm.shape[0], 100)"
   ]
  },
  {
   "cell_type": "code",
   "execution_count": 37,
   "id": "50b5c3a7",
   "metadata": {},
   "outputs": [],
   "source": [
    "from pickle import dump\n",
    "dump(model, open('model.pkl', 'wb'))"
   ]
  },
  {
   "cell_type": "code",
   "execution_count": 8,
   "id": "anonymous-think",
   "metadata": {},
   "outputs": [],
   "source": [
    "topic_names = [f'Topic {k}' for k in range(100)]\n",
    "topic_word_distributions = pd.DataFrame(\n",
    "    model.components_, columns=vocabulary, index=topic_names)\n",
    "document_topic_distributions = pd.DataFrame(document_topic_distributions, columns=topic_names, index=df.index)"
   ]
  },
  {
   "cell_type": "code",
   "execution_count": 9,
   "id": "macro-street",
   "metadata": {},
   "outputs": [
    {
     "data": {
      "text/plain": [
       "Topic 0    0.000002\n",
       "Topic 1    0.001291\n",
       "Topic 2    0.000592\n",
       "Topic 3    0.002002\n",
       "Topic 4    0.003679\n",
       "Topic 5    0.011683\n",
       "Topic 6    0.079996\n",
       "Topic 7    0.000002\n",
       "Topic 8    0.005844\n",
       "Topic 9    0.000002\n",
       "Name: blackmun, dtype: float64"
      ]
     },
     "execution_count": 9,
     "metadata": {},
     "output_type": "execute_result"
    }
   ],
   "source": [
    "document_topic_distributions.loc['410 US 113'].loc['blackmun'].head(10)"
   ]
  },
  {
   "cell_type": "code",
   "execution_count": 10,
   "id": "streaming-rates",
   "metadata": {},
   "outputs": [
    {
     "data": {
      "text/plain": [
       "Topic 14    0.261380\n",
       "Topic 63    0.103755\n",
       "Topic 6     0.079996\n",
       "Topic 49    0.079675\n",
       "Topic 17    0.049497\n",
       "Topic 35    0.038979\n",
       "Topic 42    0.037718\n",
       "Topic 93    0.034306\n",
       "Topic 78    0.033144\n",
       "Topic 41    0.032153\n",
       "Name: blackmun, dtype: float64"
      ]
     },
     "execution_count": 10,
     "metadata": {},
     "output_type": "execute_result"
    }
   ],
   "source": [
    "blackmun_opinion = document_topic_distributions.loc['410 US 113'].loc['blackmun']\n",
    "blackmun_opinion.sort_values(ascending=False).head(10)"
   ]
  },
  {
   "cell_type": "code",
   "execution_count": 11,
   "id": "opposed-thesis",
   "metadata": {},
   "outputs": [
    {
     "data": {
      "text/plain": [
       "child        7148.398106\n",
       "children     5668.526880\n",
       "medical      5167.666624\n",
       "health       3431.308011\n",
       "women        3194.024162\n",
       "treatment    2919.207243\n",
       "care         2912.593764\n",
       "hospital     2839.550152\n",
       "family       2722.583008\n",
       "age          2686.429177\n",
       "parents      2646.981270\n",
       "mental       2515.309043\n",
       "abortion     2473.571781\n",
       "social       2115.088729\n",
       "statute      2025.966412\n",
       "life         1893.954525\n",
       "woman        1820.462268\n",
       "physician    1813.155061\n",
       "Name: Topic 14, dtype: float64"
      ]
     },
     "execution_count": 11,
     "metadata": {},
     "output_type": "execute_result"
    }
   ],
   "source": [
    "topic_word_distributions.loc['Topic 14'].sort_values(ascending=False).head(18)"
   ]
  },
  {
   "cell_type": "code",
   "execution_count": 12,
   "id": "express-canon",
   "metadata": {},
   "outputs": [
    {
     "data": {
      "text/plain": [
       "[Text(0.5, 0, 'Rank of mixing weight'),\n",
       " Text(0, 0.5, 'Probability'),\n",
       " (0.0, 25.0)]"
      ]
     },
     "execution_count": 12,
     "metadata": {},
     "output_type": "execute_result"
    },
    {
     "data": {
      "image/png": "[encoded data removed]",
      "text/plain": [
       "<Figure size 432x288 with 1 Axes>"
      ]
     },
     "metadata": {
      "needs_background": "light"
     },
     "output_type": "display_data"
    }
   ],
   "source": [
    "weights_sample = document_topic_distributions.sample(9)\n",
    "weights_ordered = weights_sample.apply(lambda row: row.sort_values(ascending=False).reset_index(drop=True), axis=1)\n",
    "ax = weights_ordered.T.plot()\n",
    "ax.set(xlabel='Rank of mixing weight', ylabel='Probability', xlim=(0,25))"
   ]
  },
  {
   "cell_type": "code",
   "execution_count": 13,
   "id": "modular-speaking",
   "metadata": {},
   "outputs": [
    {
     "data": {
      "text/plain": [
       "Index(['case_id', 'text', 'type', 'year'], dtype='object')"
      ]
     },
     "execution_count": 13,
     "metadata": {},
     "output_type": "execute_result"
    }
   ],
   "source": [
    "scdb = pd.read_csv('datasets/09-topic-models/data/SCDB_2016_01_caseCentered_Citation.csv.zip', dtype={'issueArea': float}, encoding='latin1', index_col='caseId')\n",
    "df_after_1945 = df.loc[df.case_id.isin(scdb.index)]\n",
    "df_after_1945.columns"
   ]
  },
  {
   "cell_type": "code",
   "execution_count": 14,
   "id": "complicated-charleston",
   "metadata": {},
   "outputs": [],
   "source": [
    "df_after_1945 = df_after_1945.join(scdb['issueArea'], on='case_id')"
   ]
  },
  {
   "cell_type": "code",
   "execution_count": 15,
   "id": "changing-emphasis",
   "metadata": {},
   "outputs": [],
   "source": [
    "spaeth_issue_areas = {\n",
    "    1: 'Criminal Procedure',\n",
    "    2: 'Civil Rights',\n",
    "    3: 'First Amendment', \n",
    "    4: 'Due Process',\n",
    "    5: 'Privacy',\n",
    "    6: 'Attorneys',\n",
    "    7: 'Unions',\n",
    "    8: 'Economic Activity',\n",
    "    9: 'Judicial Power',\n",
    "    10: 'Federalism',\n",
    "    11: 'Interstate Relations', \n",
    "    12: 'Federal Taxation',\n",
    "    13: 'Miscellaneous',\n",
    "    14: 'Private Action'\n",
    "}"
   ]
  },
  {
   "cell_type": "code",
   "execution_count": 16,
   "id": "useful-crack",
   "metadata": {},
   "outputs": [],
   "source": [
    "df_after_1945['issueArea'] = pd.Categorical(\n",
    "    df_after_1945['issueArea'].replace(spaeth_issue_areas), categories=spaeth_issue_areas.values())"
   ]
  },
  {
   "cell_type": "code",
   "execution_count": 17,
   "id": "working-eating",
   "metadata": {},
   "outputs": [
    {
     "name": "stdout",
     "output_type": "stream",
     "text": [
      "Criminal Procedure 3444\n",
      "0.24760946149974836\n"
     ]
    }
   ],
   "source": [
    "import collections\n",
    "[(issue_area, count)] = collections.Counter(df_after_1945['issueArea']).most_common(1)\n",
    "print(issue_area, count)\n",
    "print(count/len(df_after_1945))"
   ]
  },
  {
   "cell_type": "code",
   "execution_count": 18,
   "id": "clear-emission",
   "metadata": {},
   "outputs": [],
   "source": [
    "document_word_counts = dtm.toarray().sum(axis=1)\n",
    "document_topic_word_counts = document_topic_distributions.multiply(document_word_counts, axis='index')\n",
    "df_after_1945 = df_after_1945.join(document_topic_word_counts)"
   ]
  },
  {
   "cell_type": "code",
   "execution_count": 19,
   "id": "noticed-scholar",
   "metadata": {},
   "outputs": [
    {
     "data": {
      "text/plain": [
       "issueArea\n",
       "Criminal Procedure      23920.377588\n",
       "Civil Rights            94190.588040\n",
       "First Amendment         16938.362864\n",
       "Due Process             16520.338480\n",
       "Privacy                 50084.692505\n",
       "Attorneys                1649.368642\n",
       "Unions                   2939.136220\n",
       "Economic Activity       14888.631744\n",
       "Judicial Power          10123.161210\n",
       "Federalism               6709.178785\n",
       "Interstate Relations       70.451713\n",
       "Federal Taxation         1533.050275\n",
       "Miscellaneous             198.741944\n",
       "Private Action              0.000000\n",
       "Name: Topic 14, dtype: float64"
      ]
     },
     "execution_count": 19,
     "metadata": {},
     "output_type": "execute_result"
    }
   ],
   "source": [
    "df_after_1945.groupby('issueArea')['Topic 14'].sum()"
   ]
  },
  {
   "cell_type": "code",
   "execution_count": 20,
   "id": "juvenile-saturn",
   "metadata": {},
   "outputs": [
    {
     "data": {
      "text/plain": [
       "child       7148.398106\n",
       "children    5668.526880\n",
       "medical     5167.666624\n",
       "health      3431.308011\n",
       "women       3194.024162\n",
       "Name: Topic 14, dtype: float64"
      ]
     },
     "execution_count": 20,
     "metadata": {},
     "output_type": "execute_result"
    }
   ],
   "source": [
    "topic_word_distributions.loc['Topic 14'].sort_values(ascending=False).head()"
   ]
  },
  {
   "cell_type": "code",
   "execution_count": 21,
   "id": "therapeutic-soccer",
   "metadata": {},
   "outputs": [],
   "source": [
    "lauderdale_clark_figure_3_mapping = (\n",
    "    ('lands, indian, land', 59, 'indian, territory, indians'),\n",
    "    ('tax, commerce, interstate', 89, 'commerce, interstate, state'),\n",
    "    ('federal, immunity, law', 2, 'suit, action, states, ... immunity'),\n",
    "    ('military, aliens, aliens', 22, '..., alien, ..., aliens, ..., deportation, immigration'),\n",
    "    ('district, habeas, appeal', 43, 'court, federal, district, appeals, review, courts, habeas'),\n",
    "    ('negligence, martime, admirality', 7, 'vessel, ship, admiralty'),\n",
    "    ('patent, copyright, cable', 86, 'patent, ..., invention, patents'),\n",
    "    ('search, fourth, warrant', 37, 'search, warrant, fourth'),\n",
    "    ('jury, death, penalty', 3, 'sentence, death, sentencing, penalty'),\n",
    "    ('school, religious, schools', 73, 'religious, funds, ... government, ... establishment'),\n",
    "    ('trial, counsel, testimony', 13, 'counsel, trial, defendant'),\n",
    "    ('epa, waste, safety', 95, 'regulations, ..., agency, ..., safety, ..., air, epa'),\n",
    "    ('speech, ordinance, public', 58, 'speech, amendment, ..., public'),\n",
    "    ('antitrust, price, securities', 39, 'market, price, competition, act, antitrust'),\n",
    "    ('child, abortion, children', 14, 'child, children, medical, ..., woman, ... abortion'),\n",
    "    ('prison, inmates, parole', 67, 'prison, release, custory, parole'),\n",
    "    ('political, eletion, party', 23, 'speech, amendment, ... political, party'),\n",
    "    ('title, vii, employment', 55, 'title, discrimination, ..., vii'),\n",
    "    ('offense, criminal, jeopardy', 78, 'criminal, ..., crime, offense'),\n",
    "    ('union, labor, board', 24, 'board, union, labor'),\n",
    "    ('damages, fees, attorneys', 87, 'attorney, fees, ..., costs'),\n",
    "    ('commission, rates, gas', 97, 'rate, ..., gas, ..., rates'),\n",
    "    ('congress, act, usc', 41, 'federal, congress, act, law')\n",
    ")"
   ]
  },
  {
   "cell_type": "code",
   "execution_count": 22,
   "id": "geographic-string",
   "metadata": {},
   "outputs": [],
   "source": [
    "figure_3_topic_names = [f'Topic {t}' for _, t, _ in lauderdale_clark_figure_3_mapping]\n",
    "df_plot = df_after_1945.groupby('issueArea')[figure_3_topic_names].sum()\n",
    "df_plot = df_plot.rename(\n",
    "    columns={\n",
    "        f'Topic {t}': f'{t}: {figure_3_words}'\n",
    "        for figure_3_words, t, _ in lauderdale_clark_figure_3_mapping})"
   ]
  },
  {
   "cell_type": "code",
   "execution_count": 23,
   "id": "internal-sport",
   "metadata": {},
   "outputs": [
    {
     "data": {
      "image/png": "[encoded data removed]",
      "text/plain": [
       "<Figure size 432x288 with 1 Axes>"
      ]
     },
     "metadata": {
      "needs_background": "light"
     },
     "output_type": "display_data"
    }
   ],
   "source": [
    "import matplotlib.pyplot as plt\n",
    "import numpy as np\n",
    "fig, ax = plt.subplots()\n",
    "im = ax.imshow(np.flipud(df_plot.values), cmap='Greys')\n",
    "ax.set_xticks(np.arange(len(df_plot.columns)))\n",
    "ax.set_yticks(np.arange(len(df_plot.index)))\n",
    "ax.set_xticklabels(df_plot.columns)\n",
    "ax.set_yticklabels(reversed(df_plot.index))\n",
    "plt.setp(\n",
    "    ax.get_xticklabels(), rotation=45, ha='right', rotation_mode='anchor')\n",
    "ax.set_title('Topic model and expert label alignment')\n",
    "fig.tight_layout()"
   ]
  },
  {
   "cell_type": "code",
   "execution_count": 24,
   "id": "b2f36d61",
   "metadata": {},
   "outputs": [],
   "source": [
    "viability_top_topics = topic_word_distributions['viability'].sort_values(ascending=False).head(5)"
   ]
  },
  {
   "cell_type": "code",
   "execution_count": 25,
   "id": "72580ad3",
   "metadata": {},
   "outputs": [],
   "source": [
    "viability_top_topics_top_words = topic_word_distributions.loc[viability_top_topics.index].apply(lambda row: ', '.join(row.sort_values(ascending=False).head().index), axis=1)"
   ]
  },
  {
   "cell_type": "code",
   "execution_count": 26,
   "id": "9e34f244",
   "metadata": {},
   "outputs": [],
   "source": [
    "viability_top_topics_top_words.name = 'topic_top_words'\n",
    "#viability_top_topics.to_frame().join(viability_top_topics_top_words)"
   ]
  },
  {
   "cell_type": "code",
   "execution_count": 27,
   "id": "e7cb8624",
   "metadata": {},
   "outputs": [
    {
     "name": "stderr",
     "output_type": "stream",
     "text": [
      "C:\\Users\\KSpicer\\AppData\\Local\\Temp\\ipykernel_13920\\2919112382.py:2: PerformanceWarning: indexing past lexsort depth may impact performance.\n",
      "  document_topic_distributions.loc[opinion_of_interest, viability_top_topics.index]\n"
     ]
    },
    {
     "data": {
      "text/html": [
       "<div>\n",
       "<style scoped>\n",
       "    .dataframe tbody tr th:only-of-type {\n",
       "        vertical-align: middle;\n",
       "    }\n",
       "\n",
       "    .dataframe tbody tr th {\n",
       "        vertical-align: top;\n",
       "    }\n",
       "\n",
       "    .dataframe thead th {\n",
       "        text-align: right;\n",
       "    }\n",
       "</style>\n",
       "<table border=\"1\" class=\"dataframe\">\n",
       "  <thead>\n",
       "    <tr style=\"text-align: right;\">\n",
       "      <th></th>\n",
       "      <th></th>\n",
       "      <th>Topic 14</th>\n",
       "      <th>Topic 63</th>\n",
       "      <th>Topic 81</th>\n",
       "      <th>Topic 1</th>\n",
       "      <th>Topic 37</th>\n",
       "    </tr>\n",
       "    <tr>\n",
       "      <th>us_reports_citation</th>\n",
       "      <th>authors</th>\n",
       "      <th></th>\n",
       "      <th></th>\n",
       "      <th></th>\n",
       "      <th></th>\n",
       "      <th></th>\n",
       "    </tr>\n",
       "  </thead>\n",
       "  <tbody>\n",
       "    <tr>\n",
       "      <th>314 US 441</th>\n",
       "      <th>jackson_r</th>\n",
       "      <td>0.010768</td>\n",
       "      <td>0.009794</td>\n",
       "      <td>0.000006</td>\n",
       "      <td>0.007029</td>\n",
       "      <td>0.000006</td>\n",
       "    </tr>\n",
       "  </tbody>\n",
       "</table>\n",
       "</div>"
      ],
      "text/plain": [
       "                               Topic 14  Topic 63  Topic 81   Topic 1  \\\n",
       "us_reports_citation authors                                             \n",
       "314 US 441          jackson_r  0.010768  0.009794  0.000006  0.007029   \n",
       "\n",
       "                               Topic 37  \n",
       "us_reports_citation authors              \n",
       "314 US 441          jackson_r  0.000006  "
      ]
     },
     "execution_count": 27,
     "metadata": {},
     "output_type": "execute_result"
    }
   ],
   "source": [
    "opinion_of_interest = ('314 US 441', 'jackson_r')\n",
    "document_topic_distributions.loc[opinion_of_interest, viability_top_topics.index]"
   ]
  },
  {
   "cell_type": "code",
   "execution_count": 28,
   "id": "16d55cd4",
   "metadata": {},
   "outputs": [
    {
     "name": "stdout",
     "output_type": "stream",
     "text": [
      "Connecticut, in 1905, and  when five years old moved with his parents to Los Angeles, California, where he resided until 1926, when he removed to Berkeley, California.  His parents live in California.  In 1929 he completed his studies at Brown University and immediately thereafter accepted employment in a trust company in Detroit, Michigan, of which one of his former professors at Brown was vice president.  While in Detroit, respondent lived first in a rooming house and later in an apartment. He owns no property there.  In the District of Columbia he lives in an apartment, which he has furnished himself. His present employment pays him $ 6,500 a year, while that which he left in Detroit paid but $ 6,000.  He testified before the Board of Tax Appeals that he does not think he would improve his condition by returning to Detroit, but that \"It is the place to which I will return if I ever become disemployed by the Government, which I hope will not happen . . .\" Although he has no present c\n"
     ]
    },
    {
     "name": "stderr",
     "output_type": "stream",
     "text": [
      "C:\\Users\\KSpicer\\AppData\\Local\\Temp\\ipykernel_13920\\2838681114.py:1: PerformanceWarning: indexing past lexsort depth may impact performance.\n",
      "  print(df.loc[opinion_of_interest, 'text'].values[0][1000:2000])\n"
     ]
    }
   ],
   "source": [
    "print(df.loc[opinion_of_interest, 'text'].values[0][1000:2000])"
   ]
  },
  {
   "cell_type": "code",
   "execution_count": 29,
   "id": "7410372c",
   "metadata": {},
   "outputs": [
    {
     "name": "stdout",
     "output_type": "stream",
     "text": [
      "\"viability\" count in 529 US 362: 0\n"
     ]
    },
    {
     "name": "stderr",
     "output_type": "stream",
     "text": [
      "C:\\Users\\KSpicer\\AppData\\Local\\Temp\\ipykernel_13920\\782744828.py:5: PerformanceWarning: indexing past lexsort depth may impact performance.\n",
      "  for word in df.loc[opinion_of_interest, 'text'].values[0].split()))\n"
     ]
    }
   ],
   "source": [
    "opinion_of_interest = ('529 US 362', \"o'connor\")\n",
    "print(\n",
    "    f'\"viability\" count in 529 US 362:',\n",
    "    sum('minor' in word.lower()\n",
    "       for word in df.loc[opinion_of_interest, 'text'].values[0].split()))"
   ]
  },
  {
   "cell_type": "code",
   "execution_count": 30,
   "id": "38291982",
   "metadata": {},
   "outputs": [
    {
     "name": "stderr",
     "output_type": "stream",
     "text": [
      "C:\\Users\\KSpicer\\AppData\\Local\\Temp\\ipykernel_13920\\4079511877.py:1: PerformanceWarning: indexing past lexsort depth may impact performance.\n",
      "  document_topic_distributions.loc[opinion_of_interest, viability_top_topics.index.tolist() + ['Topic 63']]\n"
     ]
    },
    {
     "data": {
      "text/html": [
       "<div>\n",
       "<style scoped>\n",
       "    .dataframe tbody tr th:only-of-type {\n",
       "        vertical-align: middle;\n",
       "    }\n",
       "\n",
       "    .dataframe tbody tr th {\n",
       "        vertical-align: top;\n",
       "    }\n",
       "\n",
       "    .dataframe thead th {\n",
       "        text-align: right;\n",
       "    }\n",
       "</style>\n",
       "<table border=\"1\" class=\"dataframe\">\n",
       "  <thead>\n",
       "    <tr style=\"text-align: right;\">\n",
       "      <th></th>\n",
       "      <th></th>\n",
       "      <th>Topic 14</th>\n",
       "      <th>Topic 63</th>\n",
       "      <th>Topic 81</th>\n",
       "      <th>Topic 1</th>\n",
       "      <th>Topic 37</th>\n",
       "      <th>Topic 63</th>\n",
       "    </tr>\n",
       "    <tr>\n",
       "      <th>us_reports_citation</th>\n",
       "      <th>authors</th>\n",
       "      <th></th>\n",
       "      <th></th>\n",
       "      <th></th>\n",
       "      <th></th>\n",
       "      <th></th>\n",
       "      <th></th>\n",
       "    </tr>\n",
       "  </thead>\n",
       "  <tbody>\n",
       "    <tr>\n",
       "      <th>529 US 362</th>\n",
       "      <th>o'connor</th>\n",
       "      <td>0.008374</td>\n",
       "      <td>0.10935</td>\n",
       "      <td>0.110653</td>\n",
       "      <td>0.000003</td>\n",
       "      <td>0.01034</td>\n",
       "      <td>0.10935</td>\n",
       "    </tr>\n",
       "  </tbody>\n",
       "</table>\n",
       "</div>"
      ],
      "text/plain": [
       "                              Topic 14  Topic 63  Topic 81   Topic 1  \\\n",
       "us_reports_citation authors                                            \n",
       "529 US 362          o'connor  0.008374   0.10935  0.110653  0.000003   \n",
       "\n",
       "                              Topic 37  Topic 63  \n",
       "us_reports_citation authors                       \n",
       "529 US 362          o'connor   0.01034   0.10935  "
      ]
     },
     "execution_count": 30,
     "metadata": {},
     "output_type": "execute_result"
    }
   ],
   "source": [
    "document_topic_distributions.loc[opinion_of_interest, viability_top_topics.index.tolist() + ['Topic 63']]"
   ]
  },
  {
   "cell_type": "code",
   "execution_count": 31,
   "id": "3529b083",
   "metadata": {},
   "outputs": [
    {
     "name": "stdout",
     "output_type": "stream",
     "text": [
      "Topic 63 top words:\n",
      "   court, id, 2d, supra, cases, rule, case, decision\n"
     ]
    }
   ],
   "source": [
    "topic_oi = 'Topic 63'\n",
    "topic_oi_words = ', '.join(topic_word_distributions.loc[topic_oi].sort_values(ascending=False).head(8).index)\n",
    "print(f'Topic 63 top words:\\n   {topic_oi_words}')"
   ]
  },
  {
   "cell_type": "code",
   "execution_count": 32,
   "id": "cf8f4e3b",
   "metadata": {},
   "outputs": [
    {
     "name": "stdout",
     "output_type": "stream",
     "text": [
      "[]\n"
     ]
    },
    {
     "name": "stderr",
     "output_type": "stream",
     "text": [
      "C:\\Users\\KSpicer\\AppData\\Local\\Temp\\ipykernel_13920\\732627407.py:3: PerformanceWarning: indexing past lexsort depth may impact performance.\n",
      "  opinion_text = df.loc[opinion_of_interest, 'text'][0]\n"
     ]
    }
   ],
   "source": [
    "import itertools\n",
    "\n",
    "opinion_text = df.loc[opinion_of_interest, 'text'][0]\n",
    "window_width, num_words = 3, len(opinion_text.split())\n",
    "words = iter(opinion_text.split())\n",
    "windows = [' '.join(itertools.islice(words, 0, window_width))\n",
    "           for _ in range(num_words // window_width)]\n",
    "print([window for window in windows if 'minor' in window])"
   ]
  },
  {
   "cell_type": "code",
   "execution_count": 33,
   "id": "df981945",
   "metadata": {},
   "outputs": [
    {
     "data": {
      "text/plain": [
       "child        7148.398106\n",
       "children     5668.526880\n",
       "medical      5167.666624\n",
       "health       3431.308011\n",
       "women        3194.024162\n",
       "treatment    2919.207243\n",
       "care         2912.593764\n",
       "hospital     2839.550152\n",
       "family       2722.583008\n",
       "age          2686.429177\n",
       "Name: Topic 14, dtype: float64"
      ]
     },
     "execution_count": 33,
     "metadata": {},
     "output_type": "execute_result"
    }
   ],
   "source": [
    "topic_fourteen = 'Topic 14'\n",
    "topic_word_distributions.loc[topic_fourteen].sort_values(ascending=False).head(10)"
   ]
  },
  {
   "cell_type": "code",
   "execution_count": 34,
   "id": "9e803cb4",
   "metadata": {},
   "outputs": [
    {
     "name": "stdout",
     "output_type": "stream",
     "text": [
      "child, children, medical, health, women, treatment, care, hospital, family, age\n"
     ]
    }
   ],
   "source": [
    "topic_top_words = topic_word_distributions.loc[topic_fourteen].sort_values(ascending=False).head(10).index\n",
    "topic_top_words_joined = ', '.join(topic_top_words)\n",
    "print(topic_top_words_joined)"
   ]
  },
  {
   "cell_type": "code",
   "execution_count": 35,
   "id": "c71dfe7b",
   "metadata": {},
   "outputs": [
    {
     "data": {
      "text/html": [
       "<div>\n",
       "<style scoped>\n",
       "    .dataframe tbody tr th:only-of-type {\n",
       "        vertical-align: middle;\n",
       "    }\n",
       "\n",
       "    .dataframe tbody tr th {\n",
       "        vertical-align: top;\n",
       "    }\n",
       "\n",
       "    .dataframe thead th {\n",
       "        text-align: right;\n",
       "    }\n",
       "</style>\n",
       "<table border=\"1\" class=\"dataframe\">\n",
       "  <thead>\n",
       "    <tr style=\"text-align: right;\">\n",
       "      <th></th>\n",
       "      <th>Topic 0</th>\n",
       "      <th>Topic 1</th>\n",
       "      <th>Topic 2</th>\n",
       "      <th>Topic 3</th>\n",
       "      <th>Topic 4</th>\n",
       "      <th>Topic 5</th>\n",
       "      <th>Topic 6</th>\n",
       "      <th>Topic 7</th>\n",
       "      <th>Topic 8</th>\n",
       "      <th>Topic 9</th>\n",
       "      <th>...</th>\n",
       "      <th>Topic 90</th>\n",
       "      <th>Topic 91</th>\n",
       "      <th>Topic 92</th>\n",
       "      <th>Topic 93</th>\n",
       "      <th>Topic 94</th>\n",
       "      <th>Topic 95</th>\n",
       "      <th>Topic 96</th>\n",
       "      <th>Topic 97</th>\n",
       "      <th>Topic 98</th>\n",
       "      <th>Topic 99</th>\n",
       "    </tr>\n",
       "  </thead>\n",
       "  <tbody>\n",
       "    <tr>\n",
       "      <th>1794</th>\n",
       "      <td>0.000038</td>\n",
       "      <td>0.019573</td>\n",
       "      <td>0.000038</td>\n",
       "      <td>0.000038</td>\n",
       "      <td>0.021096</td>\n",
       "      <td>0.000038</td>\n",
       "      <td>0.000038</td>\n",
       "      <td>0.013707</td>\n",
       "      <td>0.000038</td>\n",
       "      <td>0.000038</td>\n",
       "      <td>...</td>\n",
       "      <td>0.000038</td>\n",
       "      <td>0.000038</td>\n",
       "      <td>0.000038</td>\n",
       "      <td>0.210499</td>\n",
       "      <td>0.002054</td>\n",
       "      <td>0.000038</td>\n",
       "      <td>0.000038</td>\n",
       "      <td>0.000038</td>\n",
       "      <td>0.000038</td>\n",
       "      <td>0.000038</td>\n",
       "    </tr>\n",
       "    <tr>\n",
       "      <th>1795</th>\n",
       "      <td>0.000026</td>\n",
       "      <td>0.014169</td>\n",
       "      <td>0.000026</td>\n",
       "      <td>0.000026</td>\n",
       "      <td>0.025628</td>\n",
       "      <td>0.000026</td>\n",
       "      <td>0.000026</td>\n",
       "      <td>0.106625</td>\n",
       "      <td>0.000026</td>\n",
       "      <td>0.000026</td>\n",
       "      <td>...</td>\n",
       "      <td>0.000026</td>\n",
       "      <td>0.000026</td>\n",
       "      <td>0.000026</td>\n",
       "      <td>0.000026</td>\n",
       "      <td>0.000026</td>\n",
       "      <td>0.000026</td>\n",
       "      <td>0.000026</td>\n",
       "      <td>0.000026</td>\n",
       "      <td>0.000026</td>\n",
       "      <td>0.000026</td>\n",
       "    </tr>\n",
       "    <tr>\n",
       "      <th>1796</th>\n",
       "      <td>0.000028</td>\n",
       "      <td>0.036382</td>\n",
       "      <td>0.000028</td>\n",
       "      <td>0.000028</td>\n",
       "      <td>0.004396</td>\n",
       "      <td>0.032959</td>\n",
       "      <td>0.000028</td>\n",
       "      <td>0.021983</td>\n",
       "      <td>0.009850</td>\n",
       "      <td>0.000028</td>\n",
       "      <td>...</td>\n",
       "      <td>0.000028</td>\n",
       "      <td>0.015842</td>\n",
       "      <td>0.000028</td>\n",
       "      <td>0.130444</td>\n",
       "      <td>0.002253</td>\n",
       "      <td>0.000028</td>\n",
       "      <td>0.000028</td>\n",
       "      <td>0.004262</td>\n",
       "      <td>0.000028</td>\n",
       "      <td>0.000028</td>\n",
       "    </tr>\n",
       "    <tr>\n",
       "      <th>1797</th>\n",
       "      <td>0.000026</td>\n",
       "      <td>0.015645</td>\n",
       "      <td>0.000026</td>\n",
       "      <td>0.000026</td>\n",
       "      <td>0.010891</td>\n",
       "      <td>0.098829</td>\n",
       "      <td>0.000026</td>\n",
       "      <td>0.081282</td>\n",
       "      <td>0.000026</td>\n",
       "      <td>0.000026</td>\n",
       "      <td>...</td>\n",
       "      <td>0.000026</td>\n",
       "      <td>0.007088</td>\n",
       "      <td>0.011393</td>\n",
       "      <td>0.083118</td>\n",
       "      <td>0.000026</td>\n",
       "      <td>0.000026</td>\n",
       "      <td>0.000026</td>\n",
       "      <td>0.002262</td>\n",
       "      <td>0.000026</td>\n",
       "      <td>0.000026</td>\n",
       "    </tr>\n",
       "    <tr>\n",
       "      <th>1798</th>\n",
       "      <td>0.000352</td>\n",
       "      <td>0.009832</td>\n",
       "      <td>0.003496</td>\n",
       "      <td>0.001023</td>\n",
       "      <td>0.002399</td>\n",
       "      <td>0.121964</td>\n",
       "      <td>0.000010</td>\n",
       "      <td>0.000010</td>\n",
       "      <td>0.000010</td>\n",
       "      <td>0.000981</td>\n",
       "      <td>...</td>\n",
       "      <td>0.051774</td>\n",
       "      <td>0.013590</td>\n",
       "      <td>0.002891</td>\n",
       "      <td>0.075408</td>\n",
       "      <td>0.000010</td>\n",
       "      <td>0.000010</td>\n",
       "      <td>0.000010</td>\n",
       "      <td>0.002979</td>\n",
       "      <td>0.000010</td>\n",
       "      <td>0.000010</td>\n",
       "    </tr>\n",
       "  </tbody>\n",
       "</table>\n",
       "<p>5 rows × 100 columns</p>\n",
       "</div>"
      ],
      "text/plain": [
       "       Topic 0   Topic 1   Topic 2   Topic 3   Topic 4   Topic 5   Topic 6  \\\n",
       "1794  0.000038  0.019573  0.000038  0.000038  0.021096  0.000038  0.000038   \n",
       "1795  0.000026  0.014169  0.000026  0.000026  0.025628  0.000026  0.000026   \n",
       "1796  0.000028  0.036382  0.000028  0.000028  0.004396  0.032959  0.000028   \n",
       "1797  0.000026  0.015645  0.000026  0.000026  0.010891  0.098829  0.000026   \n",
       "1798  0.000352  0.009832  0.003496  0.001023  0.002399  0.121964  0.000010   \n",
       "\n",
       "       Topic 7   Topic 8   Topic 9  ...  Topic 90  Topic 91  Topic 92  \\\n",
       "1794  0.013707  0.000038  0.000038  ...  0.000038  0.000038  0.000038   \n",
       "1795  0.106625  0.000026  0.000026  ...  0.000026  0.000026  0.000026   \n",
       "1796  0.021983  0.009850  0.000028  ...  0.000028  0.015842  0.000028   \n",
       "1797  0.081282  0.000026  0.000026  ...  0.000026  0.007088  0.011393   \n",
       "1798  0.000010  0.000010  0.000981  ...  0.051774  0.013590  0.002891   \n",
       "\n",
       "      Topic 93  Topic 94  Topic 95  Topic 96  Topic 97  Topic 98  Topic 99  \n",
       "1794  0.210499  0.002054  0.000038  0.000038  0.000038  0.000038  0.000038  \n",
       "1795  0.000026  0.000026  0.000026  0.000026  0.000026  0.000026  0.000026  \n",
       "1796  0.130444  0.002253  0.000028  0.000028  0.004262  0.000028  0.000028  \n",
       "1797  0.083118  0.000026  0.000026  0.000026  0.002262  0.000026  0.000026  \n",
       "1798  0.075408  0.000010  0.000010  0.000010  0.002979  0.000010  0.000010  \n",
       "\n",
       "[5 rows x 100 columns]"
      ]
     },
     "execution_count": 35,
     "metadata": {},
     "output_type": "execute_result"
    }
   ],
   "source": [
    "opinion_word_counts = np.array(dtm.sum(axis=1)).ravel()\n",
    "word_counts_by_year = pd.Series(opinion_word_counts).groupby(df.year.values).sum()\n",
    "topic_word_counts = document_topic_distributions.multiply(opinion_word_counts, axis='index')\n",
    "topic_word_counts_by_year = topic_word_counts.groupby(df.year.values).sum()\n",
    "topic_proportion_by_year = topic_word_counts_by_year.divide(word_counts_by_year, axis='index')\n",
    "topic_proportion_by_year.head()"
   ]
  },
  {
   "cell_type": "code",
   "execution_count": 36,
   "id": "253d2a3a",
   "metadata": {},
   "outputs": [
    {
     "data": {
      "text/plain": [
       "Text(0.5, 1.0, 'Prevalence of Topic 14 (3 year rolling average)\\nchild, children, medical, health, women, treatment, care, hospital, family, age')"
      ]
     },
     "execution_count": 36,
     "metadata": {},
     "output_type": "execute_result"
    },
    {
     "data": {
      "image/png": "[encoded data removed]",
      "text/plain": [
       "<Figure size 432x288 with 1 Axes>"
      ]
     },
     "metadata": {
      "needs_background": "light"
     },
     "output_type": "display_data"
    }
   ],
   "source": [
    "window = 3 \n",
    "topic_proportion_rolling = topic_proportion_by_year.loc[1900:, topic_fourteen].rolling(window=window).mean()\n",
    "topic_proportion_rolling.plot(color='gold')\n",
    "plt.title(f'Prevalence of {topic_fourteen} ({window} year rolling average)'\n",
    "          f'\\n{topic_top_words_joined}')"
   ]
  },
  {
   "cell_type": "code",
   "execution_count": null,
   "id": "aa508c82",
   "metadata": {},
   "outputs": [],
   "source": []
  }
 ],
 "metadata": {
  "kernelspec": {
   "display_name": "Python 3.9.12 ('victorian_authorship_env')",
   "language": "python",
   "name": "python3"
  },
  "language_info": {
   "codemirror_mode": {
    "name": "ipython",
    "version": 3
   },
   "file_extension": ".py",
   "mimetype": "text/x-python",
   "name": "python",
   "nbconvert_exporter": "python",
   "pygments_lexer": "ipython3",
   "version": "3.9.12"
  },
  "vscode": {
   "interpreter": {
    "hash": "ef5d861bb1be136369da2a14d97f47e042662aed23f513481be9d838db3326bb"
   }
  }
 },
 "nbformat": 4,
 "nbformat_minor": 5
}
