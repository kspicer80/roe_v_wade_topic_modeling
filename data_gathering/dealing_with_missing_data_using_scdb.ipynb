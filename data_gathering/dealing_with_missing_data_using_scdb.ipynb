{
 "cells": [
  {
   "cell_type": "markdown",
   "metadata": {},
   "source": []
  },
  {
   "cell_type": "code",
   "execution_count": 1,
   "metadata": {},
   "outputs": [],
   "source": [
    "import pandas as pd\n",
    "import matplotlib.pyplot as plt"
   ]
  },
  {
   "cell_type": "code",
   "execution_count": 2,
   "metadata": {},
   "outputs": [
    {
     "name": "stdout",
     "output_type": "stream",
     "text": [
      "       author_name    category  per_curiam  \\\n",
      "0  Justice Roberts    majority       False   \n",
      "1   Justice Thomas  concurring       False   \n",
      "2   Justice Breyer  dissenting       False   \n",
      "3    Justice Taney    majority       False   \n",
      "4   Justice Pitney    majority       False   \n",
      "\n",
      "                               case_name  date_filed federal_cite_one  \\\n",
      "0  MCCUTCHEON V. FEDERAL ELECTION COMM'N  2014-04-02     572 U.S. 185   \n",
      "1  MCCUTCHEON V. FEDERAL ELECTION COMM'N  2014-04-02     572 U.S. 185   \n",
      "2  MCCUTCHEON V. FEDERAL ELECTION COMM'N  2014-04-02     572 U.S. 185   \n",
      "3                      EX PARTE CRENSHAW  1841-02-18      40 U.S. 119   \n",
      "4    RICHARDS V. WASHINGTON TERMINAL CO.  1914-05-04     233 U.S. 546   \n",
      "\n",
      "                                        absolute_url  \\\n",
      "0  https://www.courtlistener.com/opinion/2659301/...   \n",
      "1  https://www.courtlistener.com/opinion/2659301/...   \n",
      "2  https://www.courtlistener.com/opinion/2659301/...   \n",
      "3  https://www.courtlistener.com/opinion/86166/ex...   \n",
      "4  https://www.courtlistener.com/opinion/98178/ri...   \n",
      "\n",
      "                                             cluster  year_filed   scdb_id  \\\n",
      "0  https://www.courtlistener.com/api/rest/v3/clus...        2014  2013-033   \n",
      "1  https://www.courtlistener.com/api/rest/v3/clus...        2014  2013-033   \n",
      "2  https://www.courtlistener.com/api/rest/v3/clus...        2014  2013-033   \n",
      "3  https://www.courtlistener.com/api/rest/v3/clus...        1841  1841-005   \n",
      "4  https://www.courtlistener.com/api/rest/v3/clus...        1914  1913-149   \n",
      "\n",
      "   scdb_decision_direction  scdb_votes_majority  scdb_votes_minority  \\\n",
      "0                      1.0                  5.0                  4.0   \n",
      "1                      1.0                  5.0                  4.0   \n",
      "2                      1.0                  5.0                  4.0   \n",
      "3                      2.0                  9.0                  0.0   \n",
      "4                      1.0                  8.0                  1.0   \n",
      "\n",
      "                                                text  \n",
      "0  There is no right more basic in our democracy ...  \n",
      "1  I adhere to the view that this Court’s decisio...  \n",
      "2  Nearly 40 years ago in Buckley v. Valeo, 424 U...  \n",
      "3  This case was brought here by an appeal from t...  \n",
      "4  Plaintiff in error, who was plaintiff below, c...  \n"
     ]
    }
   ],
   "source": [
    "df = pd.read_csv('data/all_opinions.csv', encoding='utf-8')\n",
    "#print(df.head())\n",
    "#print(df.columns)\n",
    "df['case_name'] = df['case_name'].str.upper()\n",
    "print(df.head())"
   ]
  },
  {
   "cell_type": "code",
   "execution_count": 3,
   "metadata": {},
   "outputs": [
    {
     "data": {
      "text/plain": [
       "author_name                    0\n",
       "category                       0\n",
       "per_curiam                     0\n",
       "case_name                      0\n",
       "date_filed                     0\n",
       "federal_cite_one           16583\n",
       "absolute_url                   0\n",
       "cluster                        0\n",
       "year_filed                     0\n",
       "scdb_id                     1763\n",
       "scdb_decision_direction     1768\n",
       "scdb_votes_majority         1763\n",
       "scdb_votes_minority         1763\n",
       "text                           0\n",
       "dtype: int64"
      ]
     },
     "execution_count": 3,
     "metadata": {},
     "output_type": "execute_result"
    }
   ],
   "source": [
    "df.isna().sum()"
   ]
  },
  {
   "cell_type": "code",
   "execution_count": 4,
   "metadata": {},
   "outputs": [
    {
     "data": {
      "text/plain": [
       "<AxesSubplot:>"
      ]
     },
     "execution_count": 4,
     "metadata": {},
     "output_type": "execute_result"
    },
    {
     "data": {
      "image/png": "[encoded data removed]",
      "text/plain": [
       "<Figure size 432x288 with 1 Axes>"
      ]
     },
     "metadata": {
      "needs_background": "light"
     },
     "output_type": "display_data"
    }
   ],
   "source": [
    "df['scdb_decision_direction'].value_counts().plot(kind='bar')"
   ]
  },
  {
   "cell_type": "code",
   "execution_count": 5,
   "metadata": {},
   "outputs": [
    {
     "data": {
      "text/html": [
       "<div>\n",
       "<style scoped>\n",
       "    .dataframe tbody tr th:only-of-type {\n",
       "        vertical-align: middle;\n",
       "    }\n",
       "\n",
       "    .dataframe tbody tr th {\n",
       "        vertical-align: top;\n",
       "    }\n",
       "\n",
       "    .dataframe thead th {\n",
       "        text-align: right;\n",
       "    }\n",
       "</style>\n",
       "<table border=\"1\" class=\"dataframe\">\n",
       "  <thead>\n",
       "    <tr style=\"text-align: right;\">\n",
       "      <th></th>\n",
       "      <th>caseId</th>\n",
       "      <th>docketId</th>\n",
       "      <th>caseIssuesId</th>\n",
       "      <th>voteId</th>\n",
       "      <th>dateDecision</th>\n",
       "      <th>decisionType</th>\n",
       "      <th>usCite</th>\n",
       "      <th>sctCite</th>\n",
       "      <th>ledCite</th>\n",
       "      <th>lexisCite</th>\n",
       "      <th>...</th>\n",
       "      <th>authorityDecision1</th>\n",
       "      <th>authorityDecision2</th>\n",
       "      <th>lawType</th>\n",
       "      <th>lawSupp</th>\n",
       "      <th>lawMinor</th>\n",
       "      <th>majOpinWriter</th>\n",
       "      <th>majOpinAssigner</th>\n",
       "      <th>splitVote</th>\n",
       "      <th>majVotes</th>\n",
       "      <th>minVotes</th>\n",
       "    </tr>\n",
       "  </thead>\n",
       "  <tbody>\n",
       "    <tr>\n",
       "      <th>0</th>\n",
       "      <td>1946-001</td>\n",
       "      <td>1946-001-01</td>\n",
       "      <td>1946-001-01-01</td>\n",
       "      <td>1946-001-01-01-01</td>\n",
       "      <td>11/18/1946</td>\n",
       "      <td>1</td>\n",
       "      <td>329 U.S. 1</td>\n",
       "      <td>67 S. Ct. 6</td>\n",
       "      <td>91 L. Ed. 3</td>\n",
       "      <td>1946 U.S. LEXIS 1724</td>\n",
       "      <td>...</td>\n",
       "      <td>4.0</td>\n",
       "      <td>NaN</td>\n",
       "      <td>6.0</td>\n",
       "      <td>600.0</td>\n",
       "      <td>35 U.S.C. § 33</td>\n",
       "      <td>78.0</td>\n",
       "      <td>78.0</td>\n",
       "      <td>1</td>\n",
       "      <td>8</td>\n",
       "      <td>1</td>\n",
       "    </tr>\n",
       "    <tr>\n",
       "      <th>1</th>\n",
       "      <td>1946-002</td>\n",
       "      <td>1946-002-01</td>\n",
       "      <td>1946-002-01-01</td>\n",
       "      <td>1946-002-01-01-01</td>\n",
       "      <td>11/18/1946</td>\n",
       "      <td>1</td>\n",
       "      <td>329 U.S. 14</td>\n",
       "      <td>67 S. Ct. 13</td>\n",
       "      <td>91 L. Ed. 12</td>\n",
       "      <td>1946 U.S. LEXIS 1725</td>\n",
       "      <td>...</td>\n",
       "      <td>4.0</td>\n",
       "      <td>NaN</td>\n",
       "      <td>6.0</td>\n",
       "      <td>600.0</td>\n",
       "      <td>18 U.S.C. § 398</td>\n",
       "      <td>81.0</td>\n",
       "      <td>87.0</td>\n",
       "      <td>1</td>\n",
       "      <td>6</td>\n",
       "      <td>3</td>\n",
       "    </tr>\n",
       "    <tr>\n",
       "      <th>2</th>\n",
       "      <td>1946-002</td>\n",
       "      <td>1946-002-02</td>\n",
       "      <td>1946-002-02-01</td>\n",
       "      <td>1946-002-02-01-01</td>\n",
       "      <td>11/18/1946</td>\n",
       "      <td>1</td>\n",
       "      <td>329 U.S. 14</td>\n",
       "      <td>67 S. Ct. 13</td>\n",
       "      <td>91 L. Ed. 12</td>\n",
       "      <td>1946 U.S. LEXIS 1725</td>\n",
       "      <td>...</td>\n",
       "      <td>4.0</td>\n",
       "      <td>NaN</td>\n",
       "      <td>6.0</td>\n",
       "      <td>600.0</td>\n",
       "      <td>18 U.S.C. § 398</td>\n",
       "      <td>81.0</td>\n",
       "      <td>87.0</td>\n",
       "      <td>1</td>\n",
       "      <td>6</td>\n",
       "      <td>3</td>\n",
       "    </tr>\n",
       "    <tr>\n",
       "      <th>3</th>\n",
       "      <td>1946-002</td>\n",
       "      <td>1946-002-03</td>\n",
       "      <td>1946-002-03-01</td>\n",
       "      <td>1946-002-03-01-01</td>\n",
       "      <td>11/18/1946</td>\n",
       "      <td>1</td>\n",
       "      <td>329 U.S. 14</td>\n",
       "      <td>67 S. Ct. 13</td>\n",
       "      <td>91 L. Ed. 12</td>\n",
       "      <td>1946 U.S. LEXIS 1725</td>\n",
       "      <td>...</td>\n",
       "      <td>4.0</td>\n",
       "      <td>NaN</td>\n",
       "      <td>6.0</td>\n",
       "      <td>600.0</td>\n",
       "      <td>18 U.S.C. § 398</td>\n",
       "      <td>81.0</td>\n",
       "      <td>87.0</td>\n",
       "      <td>1</td>\n",
       "      <td>6</td>\n",
       "      <td>3</td>\n",
       "    </tr>\n",
       "    <tr>\n",
       "      <th>4</th>\n",
       "      <td>1946-002</td>\n",
       "      <td>1946-002-04</td>\n",
       "      <td>1946-002-04-01</td>\n",
       "      <td>1946-002-04-01-01</td>\n",
       "      <td>11/18/1946</td>\n",
       "      <td>1</td>\n",
       "      <td>329 U.S. 14</td>\n",
       "      <td>67 S. Ct. 13</td>\n",
       "      <td>91 L. Ed. 12</td>\n",
       "      <td>1946 U.S. LEXIS 1725</td>\n",
       "      <td>...</td>\n",
       "      <td>4.0</td>\n",
       "      <td>NaN</td>\n",
       "      <td>6.0</td>\n",
       "      <td>600.0</td>\n",
       "      <td>18 U.S.C. § 398</td>\n",
       "      <td>81.0</td>\n",
       "      <td>87.0</td>\n",
       "      <td>1</td>\n",
       "      <td>6</td>\n",
       "      <td>3</td>\n",
       "    </tr>\n",
       "  </tbody>\n",
       "</table>\n",
       "<p>5 rows × 53 columns</p>\n",
       "</div>"
      ],
      "text/plain": [
       "     caseId     docketId    caseIssuesId             voteId dateDecision  \\\n",
       "0  1946-001  1946-001-01  1946-001-01-01  1946-001-01-01-01   11/18/1946   \n",
       "1  1946-002  1946-002-01  1946-002-01-01  1946-002-01-01-01   11/18/1946   \n",
       "2  1946-002  1946-002-02  1946-002-02-01  1946-002-02-01-01   11/18/1946   \n",
       "3  1946-002  1946-002-03  1946-002-03-01  1946-002-03-01-01   11/18/1946   \n",
       "4  1946-002  1946-002-04  1946-002-04-01  1946-002-04-01-01   11/18/1946   \n",
       "\n",
       "   decisionType       usCite       sctCite       ledCite  \\\n",
       "0             1   329 U.S. 1   67 S. Ct. 6   91 L. Ed. 3   \n",
       "1             1  329 U.S. 14  67 S. Ct. 13  91 L. Ed. 12   \n",
       "2             1  329 U.S. 14  67 S. Ct. 13  91 L. Ed. 12   \n",
       "3             1  329 U.S. 14  67 S. Ct. 13  91 L. Ed. 12   \n",
       "4             1  329 U.S. 14  67 S. Ct. 13  91 L. Ed. 12   \n",
       "\n",
       "              lexisCite  ...  authorityDecision1  authorityDecision2 lawType  \\\n",
       "0  1946 U.S. LEXIS 1724  ...                 4.0                 NaN     6.0   \n",
       "1  1946 U.S. LEXIS 1725  ...                 4.0                 NaN     6.0   \n",
       "2  1946 U.S. LEXIS 1725  ...                 4.0                 NaN     6.0   \n",
       "3  1946 U.S. LEXIS 1725  ...                 4.0                 NaN     6.0   \n",
       "4  1946 U.S. LEXIS 1725  ...                 4.0                 NaN     6.0   \n",
       "\n",
       "  lawSupp         lawMinor majOpinWriter majOpinAssigner  splitVote  majVotes  \\\n",
       "0   600.0   35 U.S.C. § 33          78.0            78.0          1         8   \n",
       "1   600.0  18 U.S.C. § 398          81.0            87.0          1         6   \n",
       "2   600.0  18 U.S.C. § 398          81.0            87.0          1         6   \n",
       "3   600.0  18 U.S.C. § 398          81.0            87.0          1         6   \n",
       "4   600.0  18 U.S.C. § 398          81.0            87.0          1         6   \n",
       "\n",
       "   minVotes  \n",
       "0         1  \n",
       "1         3  \n",
       "2         3  \n",
       "3         3  \n",
       "4         3  \n",
       "\n",
       "[5 rows x 53 columns]"
      ]
     },
     "execution_count": 5,
     "metadata": {},
     "output_type": "execute_result"
    }
   ],
   "source": [
    "scdb_df = pd.read_csv('data/scdb_2021_case_based.csv', encoding=\"ISO 8859-1\")\n",
    "scdb_df.head()"
   ]
  },
  {
   "cell_type": "code",
   "execution_count": 6,
   "metadata": {},
   "outputs": [
    {
     "data": {
      "text/plain": [
       "<AxesSubplot:>"
      ]
     },
     "execution_count": 6,
     "metadata": {},
     "output_type": "execute_result"
    },
    {
     "data": {
      "image/png": "[encoded data removed]",
      "text/plain": [
       "<Figure size 432x288 with 1 Axes>"
      ]
     },
     "metadata": {
      "needs_background": "light"
     },
     "output_type": "display_data"
    }
   ],
   "source": [
    "scdb_df['authorityDecision1'].value_counts().plot(kind='bar', color='mediumorchid')"
   ]
  },
  {
   "cell_type": "code",
   "execution_count": 7,
   "metadata": {},
   "outputs": [],
   "source": [
    "scdb_df = scdb_df.rename({'usCite': 'federal_cite_one', 'majVotes': 'scdb_votes_majority', 'minVotes': 'scdb_votes_minority', 'caseName': 'case_name'}, axis='columns')\n"
   ]
  },
  {
   "cell_type": "code",
   "execution_count": 8,
   "metadata": {},
   "outputs": [
    {
     "name": "stdout",
     "output_type": "stream",
     "text": [
      "author_name                0\n",
      "category                   0\n",
      "per_curiam                 0\n",
      "case_name                  0\n",
      "date_filed                 0\n",
      "federal_cite_one_x         6\n",
      "absolute_url               0\n",
      "cluster                    0\n",
      "year_filed                 0\n",
      "scdb_id                    0\n",
      "scdb_decision_direction    0\n",
      "scdb_votes_majority        0\n",
      "scdb_votes_minority        0\n",
      "text                       0\n",
      "federal_cite_one_y         0\n",
      "dtype: int64\n"
     ]
    }
   ],
   "source": [
    "df_merged = df.merge(scdb_df[['federal_cite_one', 'case_name']], on='case_name', how='inner')\n",
    "print(df_merged.isna().sum())\n",
    "\n",
    "#df5 = df5.merge(df1[['Longitude', 'ID']],on='ID',how=\"left\")\n",
    "#df5['Longitude_y'] = df5['Longitude_y'].fillna(df5['Longitude_x'])\n",
    "#df5.drop([\"Longitude_x\"], inplace=True, axis=1)\n",
    "#df5.rename(columns={'Longitude_y':'Longitude'},inplace=True)"
   ]
  },
  {
   "cell_type": "code",
   "execution_count": 9,
   "metadata": {},
   "outputs": [],
   "source": [
    "df_merged[df_merged['federal_cite_one_x'].isnull()]\n",
    "df_merged['federal_cite_one_x'] = df_merged['federal_cite_one_y'].fillna(df_merged['federal_cite_one_y'])"
   ]
  },
  {
   "cell_type": "code",
   "execution_count": 10,
   "metadata": {},
   "outputs": [
    {
     "name": "stdout",
     "output_type": "stream",
     "text": [
      "author_name                0\n",
      "category                   0\n",
      "per_curiam                 0\n",
      "case_name                  0\n",
      "date_filed                 0\n",
      "federal_cite_one_x         0\n",
      "absolute_url               0\n",
      "cluster                    0\n",
      "year_filed                 0\n",
      "scdb_id                    0\n",
      "scdb_decision_direction    0\n",
      "scdb_votes_majority        0\n",
      "scdb_votes_minority        0\n",
      "text                       0\n",
      "federal_cite_one_y         0\n",
      "dtype: int64\n"
     ]
    }
   ],
   "source": [
    "print(df_merged.isna().sum())"
   ]
  },
  {
   "cell_type": "code",
   "execution_count": 11,
   "metadata": {},
   "outputs": [
    {
     "data": {
      "text/html": [
       "<div>\n",
       "<style scoped>\n",
       "    .dataframe tbody tr th:only-of-type {\n",
       "        vertical-align: middle;\n",
       "    }\n",
       "\n",
       "    .dataframe tbody tr th {\n",
       "        vertical-align: top;\n",
       "    }\n",
       "\n",
       "    .dataframe thead th {\n",
       "        text-align: right;\n",
       "    }\n",
       "</style>\n",
       "<table border=\"1\" class=\"dataframe\">\n",
       "  <thead>\n",
       "    <tr style=\"text-align: right;\">\n",
       "      <th></th>\n",
       "      <th>author_name</th>\n",
       "      <th>category</th>\n",
       "      <th>per_curiam</th>\n",
       "      <th>case_name</th>\n",
       "      <th>date_filed</th>\n",
       "      <th>federal_cite_one_x</th>\n",
       "      <th>absolute_url</th>\n",
       "      <th>cluster</th>\n",
       "      <th>year_filed</th>\n",
       "      <th>scdb_id</th>\n",
       "      <th>scdb_decision_direction</th>\n",
       "      <th>scdb_votes_majority</th>\n",
       "      <th>scdb_votes_minority</th>\n",
       "      <th>text</th>\n",
       "      <th>federal_cite_one_y</th>\n",
       "    </tr>\n",
       "  </thead>\n",
       "  <tbody>\n",
       "    <tr>\n",
       "      <th>0</th>\n",
       "      <td>Justice Black</td>\n",
       "      <td>majority</td>\n",
       "      <td>False</td>\n",
       "      <td>IN RE OLIVER</td>\n",
       "      <td>1948-03-08</td>\n",
       "      <td>333 U.S. 257</td>\n",
       "      <td>https://www.courtlistener.com/opinion/104521/i...</td>\n",
       "      <td>https://www.courtlistener.com/api/rest/v3/clus...</td>\n",
       "      <td>1948</td>\n",
       "      <td>1947-048</td>\n",
       "      <td>2.0</td>\n",
       "      <td>7.0</td>\n",
       "      <td>2.0</td>\n",
       "      <td>A Michigan circuit judge summarily sent the pe...</td>\n",
       "      <td>333 U.S. 257</td>\n",
       "    </tr>\n",
       "    <tr>\n",
       "      <th>1</th>\n",
       "      <td>Justice Rutledge</td>\n",
       "      <td>concurring</td>\n",
       "      <td>False</td>\n",
       "      <td>IN RE OLIVER</td>\n",
       "      <td>1948-03-08</td>\n",
       "      <td>333 U.S. 257</td>\n",
       "      <td>https://www.courtlistener.com/opinion/104521/i...</td>\n",
       "      <td>https://www.courtlistener.com/api/rest/v3/clus...</td>\n",
       "      <td>1948</td>\n",
       "      <td>1947-048</td>\n",
       "      <td>2.0</td>\n",
       "      <td>7.0</td>\n",
       "      <td>2.0</td>\n",
       "      <td>I join in the Court's opinion and decision. Bu...</td>\n",
       "      <td>333 U.S. 257</td>\n",
       "    </tr>\n",
       "    <tr>\n",
       "      <th>2</th>\n",
       "      <td>Justice Jackson</td>\n",
       "      <td>dissenting</td>\n",
       "      <td>False</td>\n",
       "      <td>IN RE OLIVER</td>\n",
       "      <td>1948-03-08</td>\n",
       "      <td>333 U.S. 257</td>\n",
       "      <td>https://www.courtlistener.com/opinion/104521/i...</td>\n",
       "      <td>https://www.courtlistener.com/api/rest/v3/clus...</td>\n",
       "      <td>1948</td>\n",
       "      <td>1947-048</td>\n",
       "      <td>2.0</td>\n",
       "      <td>7.0</td>\n",
       "      <td>2.0</td>\n",
       "      <td>The principal ground assigned for reversal of ...</td>\n",
       "      <td>333 U.S. 257</td>\n",
       "    </tr>\n",
       "    <tr>\n",
       "      <th>3</th>\n",
       "      <td>Justice Vinson</td>\n",
       "      <td>majority</td>\n",
       "      <td>False</td>\n",
       "      <td>EX PARTE COLLETT</td>\n",
       "      <td>1949-05-31</td>\n",
       "      <td>337 U.S. 55</td>\n",
       "      <td>https://www.courtlistener.com/opinion/104671/e...</td>\n",
       "      <td>https://www.courtlistener.com/api/rest/v3/clus...</td>\n",
       "      <td>1949</td>\n",
       "      <td>1948-077</td>\n",
       "      <td>1.0</td>\n",
       "      <td>7.0</td>\n",
       "      <td>2.0</td>\n",
       "      <td>In this case we must decide whether the venue ...</td>\n",
       "      <td>337 U.S. 55</td>\n",
       "    </tr>\n",
       "    <tr>\n",
       "      <th>4</th>\n",
       "      <td>Justice Vinson</td>\n",
       "      <td>majority</td>\n",
       "      <td>False</td>\n",
       "      <td>EX PARTE COLLETT</td>\n",
       "      <td>1949-05-31</td>\n",
       "      <td>337 U.S. 55</td>\n",
       "      <td>https://www.courtlistener.com/opinion/104671/e...</td>\n",
       "      <td>https://www.courtlistener.com/api/rest/v3/clus...</td>\n",
       "      <td>1949</td>\n",
       "      <td>1948-077</td>\n",
       "      <td>1.0</td>\n",
       "      <td>7.0</td>\n",
       "      <td>2.0</td>\n",
       "      <td>In this case we must decide whether the venue ...</td>\n",
       "      <td>337 U.S. 55</td>\n",
       "    </tr>\n",
       "    <tr>\n",
       "      <th>5</th>\n",
       "      <td>per_curiam</td>\n",
       "      <td>per_curiam</td>\n",
       "      <td>True</td>\n",
       "      <td>IN RE DISBARMENT OF ISSERMAN</td>\n",
       "      <td>1954-10-14</td>\n",
       "      <td>345 U.S. 286</td>\n",
       "      <td>https://www.courtlistener.com/opinion/105240/i...</td>\n",
       "      <td>https://www.courtlistener.com/api/rest/v3/clus...</td>\n",
       "      <td>1954</td>\n",
       "      <td>1954-001</td>\n",
       "      <td>2.0</td>\n",
       "      <td>3.0</td>\n",
       "      <td>3.0</td>\n",
       "      <td>April 6, 1953, an order was entered disbarring...</td>\n",
       "      <td>345 U.S. 286</td>\n",
       "    </tr>\n",
       "  </tbody>\n",
       "</table>\n",
       "</div>"
      ],
      "text/plain": [
       "        author_name    category  per_curiam                     case_name  \\\n",
       "0     Justice Black    majority       False                  IN RE OLIVER   \n",
       "1  Justice Rutledge  concurring       False                  IN RE OLIVER   \n",
       "2   Justice Jackson  dissenting       False                  IN RE OLIVER   \n",
       "3    Justice Vinson    majority       False              EX PARTE COLLETT   \n",
       "4    Justice Vinson    majority       False              EX PARTE COLLETT   \n",
       "5        per_curiam  per_curiam        True  IN RE DISBARMENT OF ISSERMAN   \n",
       "\n",
       "   date_filed federal_cite_one_x  \\\n",
       "0  1948-03-08       333 U.S. 257   \n",
       "1  1948-03-08       333 U.S. 257   \n",
       "2  1948-03-08       333 U.S. 257   \n",
       "3  1949-05-31        337 U.S. 55   \n",
       "4  1949-05-31        337 U.S. 55   \n",
       "5  1954-10-14       345 U.S. 286   \n",
       "\n",
       "                                        absolute_url  \\\n",
       "0  https://www.courtlistener.com/opinion/104521/i...   \n",
       "1  https://www.courtlistener.com/opinion/104521/i...   \n",
       "2  https://www.courtlistener.com/opinion/104521/i...   \n",
       "3  https://www.courtlistener.com/opinion/104671/e...   \n",
       "4  https://www.courtlistener.com/opinion/104671/e...   \n",
       "5  https://www.courtlistener.com/opinion/105240/i...   \n",
       "\n",
       "                                             cluster  year_filed   scdb_id  \\\n",
       "0  https://www.courtlistener.com/api/rest/v3/clus...        1948  1947-048   \n",
       "1  https://www.courtlistener.com/api/rest/v3/clus...        1948  1947-048   \n",
       "2  https://www.courtlistener.com/api/rest/v3/clus...        1948  1947-048   \n",
       "3  https://www.courtlistener.com/api/rest/v3/clus...        1949  1948-077   \n",
       "4  https://www.courtlistener.com/api/rest/v3/clus...        1949  1948-077   \n",
       "5  https://www.courtlistener.com/api/rest/v3/clus...        1954  1954-001   \n",
       "\n",
       "   scdb_decision_direction  scdb_votes_majority  scdb_votes_minority  \\\n",
       "0                      2.0                  7.0                  2.0   \n",
       "1                      2.0                  7.0                  2.0   \n",
       "2                      2.0                  7.0                  2.0   \n",
       "3                      1.0                  7.0                  2.0   \n",
       "4                      1.0                  7.0                  2.0   \n",
       "5                      2.0                  3.0                  3.0   \n",
       "\n",
       "                                                text federal_cite_one_y  \n",
       "0  A Michigan circuit judge summarily sent the pe...       333 U.S. 257  \n",
       "1  I join in the Court's opinion and decision. Bu...       333 U.S. 257  \n",
       "2  The principal ground assigned for reversal of ...       333 U.S. 257  \n",
       "3  In this case we must decide whether the venue ...        337 U.S. 55  \n",
       "4  In this case we must decide whether the venue ...        337 U.S. 55  \n",
       "5  April 6, 1953, an order was entered disbarring...       345 U.S. 286  "
      ]
     },
     "execution_count": 11,
     "metadata": {},
     "output_type": "execute_result"
    }
   ],
   "source": [
    "df_merged.head(10)"
   ]
  },
  {
   "cell_type": "code",
   "execution_count": 13,
   "metadata": {},
   "outputs": [],
   "source": [
    "df_merged.drop(['federal_cite_one_y'], axis=1, inplace=True)"
   ]
  },
  {
   "cell_type": "code",
   "execution_count": 14,
   "metadata": {},
   "outputs": [
    {
     "data": {
      "text/html": [
       "<div>\n",
       "<style scoped>\n",
       "    .dataframe tbody tr th:only-of-type {\n",
       "        vertical-align: middle;\n",
       "    }\n",
       "\n",
       "    .dataframe tbody tr th {\n",
       "        vertical-align: top;\n",
       "    }\n",
       "\n",
       "    .dataframe thead th {\n",
       "        text-align: right;\n",
       "    }\n",
       "</style>\n",
       "<table border=\"1\" class=\"dataframe\">\n",
       "  <thead>\n",
       "    <tr style=\"text-align: right;\">\n",
       "      <th></th>\n",
       "      <th>author_name</th>\n",
       "      <th>category</th>\n",
       "      <th>per_curiam</th>\n",
       "      <th>case_name</th>\n",
       "      <th>date_filed</th>\n",
       "      <th>federal_cite_one_x</th>\n",
       "      <th>absolute_url</th>\n",
       "      <th>cluster</th>\n",
       "      <th>year_filed</th>\n",
       "      <th>scdb_id</th>\n",
       "      <th>scdb_decision_direction</th>\n",
       "      <th>scdb_votes_majority</th>\n",
       "      <th>scdb_votes_minority</th>\n",
       "      <th>text</th>\n",
       "    </tr>\n",
       "  </thead>\n",
       "  <tbody>\n",
       "    <tr>\n",
       "      <th>0</th>\n",
       "      <td>Justice Black</td>\n",
       "      <td>majority</td>\n",
       "      <td>False</td>\n",
       "      <td>IN RE OLIVER</td>\n",
       "      <td>1948-03-08</td>\n",
       "      <td>333 U.S. 257</td>\n",
       "      <td>https://www.courtlistener.com/opinion/104521/i...</td>\n",
       "      <td>https://www.courtlistener.com/api/rest/v3/clus...</td>\n",
       "      <td>1948</td>\n",
       "      <td>1947-048</td>\n",
       "      <td>2.0</td>\n",
       "      <td>7.0</td>\n",
       "      <td>2.0</td>\n",
       "      <td>A Michigan circuit judge summarily sent the pe...</td>\n",
       "    </tr>\n",
       "    <tr>\n",
       "      <th>1</th>\n",
       "      <td>Justice Rutledge</td>\n",
       "      <td>concurring</td>\n",
       "      <td>False</td>\n",
       "      <td>IN RE OLIVER</td>\n",
       "      <td>1948-03-08</td>\n",
       "      <td>333 U.S. 257</td>\n",
       "      <td>https://www.courtlistener.com/opinion/104521/i...</td>\n",
       "      <td>https://www.courtlistener.com/api/rest/v3/clus...</td>\n",
       "      <td>1948</td>\n",
       "      <td>1947-048</td>\n",
       "      <td>2.0</td>\n",
       "      <td>7.0</td>\n",
       "      <td>2.0</td>\n",
       "      <td>I join in the Court's opinion and decision. Bu...</td>\n",
       "    </tr>\n",
       "    <tr>\n",
       "      <th>2</th>\n",
       "      <td>Justice Jackson</td>\n",
       "      <td>dissenting</td>\n",
       "      <td>False</td>\n",
       "      <td>IN RE OLIVER</td>\n",
       "      <td>1948-03-08</td>\n",
       "      <td>333 U.S. 257</td>\n",
       "      <td>https://www.courtlistener.com/opinion/104521/i...</td>\n",
       "      <td>https://www.courtlistener.com/api/rest/v3/clus...</td>\n",
       "      <td>1948</td>\n",
       "      <td>1947-048</td>\n",
       "      <td>2.0</td>\n",
       "      <td>7.0</td>\n",
       "      <td>2.0</td>\n",
       "      <td>The principal ground assigned for reversal of ...</td>\n",
       "    </tr>\n",
       "    <tr>\n",
       "      <th>3</th>\n",
       "      <td>Justice Vinson</td>\n",
       "      <td>majority</td>\n",
       "      <td>False</td>\n",
       "      <td>EX PARTE COLLETT</td>\n",
       "      <td>1949-05-31</td>\n",
       "      <td>337 U.S. 55</td>\n",
       "      <td>https://www.courtlistener.com/opinion/104671/e...</td>\n",
       "      <td>https://www.courtlistener.com/api/rest/v3/clus...</td>\n",
       "      <td>1949</td>\n",
       "      <td>1948-077</td>\n",
       "      <td>1.0</td>\n",
       "      <td>7.0</td>\n",
       "      <td>2.0</td>\n",
       "      <td>In this case we must decide whether the venue ...</td>\n",
       "    </tr>\n",
       "    <tr>\n",
       "      <th>4</th>\n",
       "      <td>Justice Vinson</td>\n",
       "      <td>majority</td>\n",
       "      <td>False</td>\n",
       "      <td>EX PARTE COLLETT</td>\n",
       "      <td>1949-05-31</td>\n",
       "      <td>337 U.S. 55</td>\n",
       "      <td>https://www.courtlistener.com/opinion/104671/e...</td>\n",
       "      <td>https://www.courtlistener.com/api/rest/v3/clus...</td>\n",
       "      <td>1949</td>\n",
       "      <td>1948-077</td>\n",
       "      <td>1.0</td>\n",
       "      <td>7.0</td>\n",
       "      <td>2.0</td>\n",
       "      <td>In this case we must decide whether the venue ...</td>\n",
       "    </tr>\n",
       "  </tbody>\n",
       "</table>\n",
       "</div>"
      ],
      "text/plain": [
       "        author_name    category  per_curiam         case_name  date_filed  \\\n",
       "0     Justice Black    majority       False      IN RE OLIVER  1948-03-08   \n",
       "1  Justice Rutledge  concurring       False      IN RE OLIVER  1948-03-08   \n",
       "2   Justice Jackson  dissenting       False      IN RE OLIVER  1948-03-08   \n",
       "3    Justice Vinson    majority       False  EX PARTE COLLETT  1949-05-31   \n",
       "4    Justice Vinson    majority       False  EX PARTE COLLETT  1949-05-31   \n",
       "\n",
       "  federal_cite_one_x                                       absolute_url  \\\n",
       "0       333 U.S. 257  https://www.courtlistener.com/opinion/104521/i...   \n",
       "1       333 U.S. 257  https://www.courtlistener.com/opinion/104521/i...   \n",
       "2       333 U.S. 257  https://www.courtlistener.com/opinion/104521/i...   \n",
       "3        337 U.S. 55  https://www.courtlistener.com/opinion/104671/e...   \n",
       "4        337 U.S. 55  https://www.courtlistener.com/opinion/104671/e...   \n",
       "\n",
       "                                             cluster  year_filed   scdb_id  \\\n",
       "0  https://www.courtlistener.com/api/rest/v3/clus...        1948  1947-048   \n",
       "1  https://www.courtlistener.com/api/rest/v3/clus...        1948  1947-048   \n",
       "2  https://www.courtlistener.com/api/rest/v3/clus...        1948  1947-048   \n",
       "3  https://www.courtlistener.com/api/rest/v3/clus...        1949  1948-077   \n",
       "4  https://www.courtlistener.com/api/rest/v3/clus...        1949  1948-077   \n",
       "\n",
       "   scdb_decision_direction  scdb_votes_majority  scdb_votes_minority  \\\n",
       "0                      2.0                  7.0                  2.0   \n",
       "1                      2.0                  7.0                  2.0   \n",
       "2                      2.0                  7.0                  2.0   \n",
       "3                      1.0                  7.0                  2.0   \n",
       "4                      1.0                  7.0                  2.0   \n",
       "\n",
       "                                                text  \n",
       "0  A Michigan circuit judge summarily sent the pe...  \n",
       "1  I join in the Court's opinion and decision. Bu...  \n",
       "2  The principal ground assigned for reversal of ...  \n",
       "3  In this case we must decide whether the venue ...  \n",
       "4  In this case we must decide whether the venue ...  "
      ]
     },
     "execution_count": 14,
     "metadata": {},
     "output_type": "execute_result"
    }
   ],
   "source": [
    "df_merged.head()"
   ]
  },
  {
   "cell_type": "code",
   "execution_count": null,
   "metadata": {},
   "outputs": [],
   "source": [
    "df_merged.to_csv('all_opinions_up_through_2022.csv')"
   ]
  },
  {
   "cell_type": "code",
   "execution_count": null,
   "metadata": {},
   "outputs": [],
   "source": [
    "df.loc[:, ['federal_cite_one']] = scdb_df[['federal_cite_one']]"
   ]
  },
  {
   "cell_type": "code",
   "execution_count": null,
   "metadata": {},
   "outputs": [],
   "source": [
    "df.head(100)"
   ]
  },
  {
   "cell_type": "code",
   "execution_count": null,
   "metadata": {},
   "outputs": [],
   "source": [
    "col = 'case_name'\n",
    "cols_to_replace = ['federal_cite_one', 'scdb_id', 'scdb_decision_direction', 'scdb_votes_majority', 'scdb_votes_minority']"
   ]
  },
  {
   "cell_type": "code",
   "execution_count": null,
   "metadata": {},
   "outputs": [],
   "source": [
    "df.loc[scdb_df[col].isin(df[col]), cols_to_replace] = scdb_df.loc[scdb_df[col].isin(scdb_df[col]), cols_to_replace].values\n",
    "\n",
    "#df3.loc[df3[col].isin(df1[col]), cols_to_replace] = df1.loc[df1[col].isin(df3[col]),cols_to_replace].values"
   ]
  },
  {
   "cell_type": "code",
   "execution_count": null,
   "metadata": {},
   "outputs": [],
   "source": [
    "df.isna().sum()"
   ]
  },
  {
   "cell_type": "code",
   "execution_count": null,
   "metadata": {},
   "outputs": [],
   "source": []
  },
  {
   "cell_type": "code",
   "execution_count": null,
   "metadata": {},
   "outputs": [],
   "source": [
    "# Get the sizes of each dataframe before merging them:\n",
    "print(df.shape)\n",
    "print(scdb_df.shape)"
   ]
  },
  {
   "cell_type": "code",
   "execution_count": null,
   "metadata": {},
   "outputs": [],
   "source": [
    "print(df.columns)\n",
    "print(scdb_df.columns)"
   ]
  },
  {
   "cell_type": "code",
   "execution_count": null,
   "metadata": {},
   "outputs": [],
   "source": [
    "df_with_scdb_merged = df.merge(scdb_df, on=['federal_cite_one', 'case_name', 'scdb_votes_majority', 'scdb_votes_minority'], how='left')\n"
   ]
  },
  {
   "cell_type": "code",
   "execution_count": null,
   "metadata": {},
   "outputs": [],
   "source": [
    "print(df_with_scdb_merged.shape)"
   ]
  },
  {
   "cell_type": "code",
   "execution_count": null,
   "metadata": {},
   "outputs": [],
   "source": [
    "df_with_scdb_merged.isna().sum()"
   ]
  },
  {
   "cell_type": "code",
   "execution_count": null,
   "metadata": {},
   "outputs": [],
   "source": [
    "pd.set_option('display.max_columns', None)\n",
    "pd.set_option('display.max_rows', None)\n",
    "print(df_with_scdb_merged.head(5))\n",
    "print(df_with_scdb_merged.shape)"
   ]
  },
  {
   "cell_type": "code",
   "execution_count": null,
   "metadata": {},
   "outputs": [],
   "source": []
  }
 ],
 "metadata": {
  "kernelspec": {
   "display_name": "Python 3.9.2 ('nlp')",
   "language": "python",
   "name": "python3"
  },
  "language_info": {
   "codemirror_mode": {
    "name": "ipython",
    "version": 3
   },
   "file_extension": ".py",
   "mimetype": "text/x-python",
   "name": "python",
   "nbconvert_exporter": "python",
   "pygments_lexer": "ipython3",
   "version": "3.9.2"
  },
  "orig_nbformat": 4,
  "vscode": {
   "interpreter": {
    "hash": "75edb825c87a0a6a7d95357b6ff5e82dfc93866b13e30996819bc52b6af5b8b6"
   }
  }
 },
 "nbformat": 4,
 "nbformat_minor": 2
}
